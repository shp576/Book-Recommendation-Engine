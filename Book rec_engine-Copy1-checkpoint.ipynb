{
 "cells": [
  {
   "cell_type": "code",
   "execution_count": null,
   "id": "401ec0e1",
   "metadata": {},
   "outputs": [],
   "source": [
    "#imports\n",
    "import numpy as np\n",
    "import pandas as pd\n",
    "from scipy.sparse import csr_matrix\n",
    "from sklearn.neighbors import NearestNeighbors\n",
    "import matplotlib.pyplot as plt"
   ]
  },
  {
   "cell_type": "code",
   "execution_count": null,
   "id": "1956a051",
   "metadata": {},
   "outputs": [],
   "source": [
    "books_filename=r\"path\"#book names\n",
    "ratings_filename=r\"path\"#data of ratings for the books"
   ]
  },
  {
   "cell_type": "code",
   "execution_count": null,
   "id": "15c2a1bb",
   "metadata": {},
   "outputs": [],
   "source": [
    "#format of the file\n",
    "df_books = pd.read_csv(\n",
    "    books_filename,\n",
    "    encoding = \"ISO-8859-1\",\n",
    "    sep=\";\",\n",
    "    header=0,\n",
    "    names=['isbn', 'title', 'author'],\n",
    "    usecols=['isbn', 'title', 'author'],\n",
    "    dtype={'isbn': 'str', 'title': 'str', 'author': 'str'})\n",
    "\n",
    "df_ratings = pd.read_csv(\n",
    "    ratings_filename,\n",
    "    encoding = \"ISO-8859-1\",\n",
    "    sep=\";\",\n",
    "    header=0,\n",
    "    names=['user', 'isbn', 'rating'],\n",
    "    usecols=['user', 'isbn', 'rating'],\n",
    "    dtype={'user': 'int32', 'isbn': 'str', 'rating': 'float32'})"
   ]
  },
  {
   "cell_type": "code",
   "execution_count": null,
   "id": "3f3a0913",
   "metadata": {},
   "outputs": [],
   "source": [
    "df_books.info()# to see formats"
   ]
  },
  {
   "cell_type": "code",
   "execution_count": null,
   "id": "320a7a49",
   "metadata": {},
   "outputs": [],
   "source": [
    "df_ratings.info()"
   ]
  },
  {
   "cell_type": "code",
   "execution_count": null,
   "id": "816c9946",
   "metadata": {},
   "outputs": [],
   "source": [
    "df_ratings.user.unique()"
   ]
  },
  {
   "cell_type": "code",
   "execution_count": null,
   "id": "20240549",
   "metadata": {},
   "outputs": [],
   "source": [
    "df = df_ratings\n",
    "\n",
    "counts1 = df['user'].value_counts()\n",
    "counts2 = df['isbn'].value_counts()\n",
    "\n",
    "df = df[~df['user'].isin(counts1[counts1 < 200].index)]\n",
    "df = df[~df['isbn'].isin(counts2[counts2 < 100].index)]\n",
    "\n",
    "df = pd.merge(right=df, left = df_books, on=\"isbn\")\n",
    "\n",
    "df = df.drop_duplicates([\"title\", \"user\"])\n",
    "\n",
    "piv = df.pivot(index='title', columns='user', values='rating').fillna(0) "
   ]
  },
  {
   "cell_type": "code",
   "execution_count": null,
   "id": "141d9fa5",
   "metadata": {},
   "outputs": [],
   "source": [
    "matrix=piv.values"
   ]
  },
  {
   "cell_type": "code",
   "execution_count": null,
   "id": "1b6e227e",
   "metadata": {},
   "outputs": [],
   "source": [
    "matrix.shape"
   ]
  },
  {
   "cell_type": "code",
   "execution_count": null,
   "id": "8e5da841",
   "metadata": {},
   "outputs": [],
   "source": [
    "piv"
   ]
  },
  {
   "cell_type": "code",
   "execution_count": null,
   "id": "0e13b291",
   "metadata": {},
   "outputs": [],
   "source": [
    "model_knn=NearestNeighbors(metric='cosine',algorithm='brute')\n",
    "model_knn.fit(matrix)"
   ]
  },
  {
   "cell_type": "code",
   "execution_count": null,
   "id": "613a0cd3",
   "metadata": {},
   "outputs": [],
   "source": [
    "def get_recommends(book = \"\"):\n",
    "  x=piv.loc[book].array.reshape(1, -1)#-1 indicates unknown number of columns\n",
    "  distances,indices=model_knn.kneighbors(x,n_neighbors=6)\n",
    "  R_books=[]\n",
    "  for distance,indice in zip(distances[0],indices[0]):\n",
    "    if distance!=0:\n",
    "      R_book=piv.index[indice]\n",
    "      R_books.append([R_book,distance])\n",
    "  recommended_books=[book,R_books[::-1]]\n",
    "  return recommended_books"
   ]
  },
  {
   "cell_type": "code",
   "execution_count": null,
   "id": "d916d81b",
   "metadata": {},
   "outputs": [],
   "source": [
    "import tkinter as tk\n",
    "from tkinter import ttk\n",
    "\n",
    "def display_recommendations():\n",
    "    book_name = book_entry.get()\n",
    "    recommended_books = get_recommends(book_name)\n",
    "    book_label.config(text=f\"Recommendations for '{recommended_books[0]}'\")\n",
    "    \n",
    "    recommendation_box.delete(0, tk.END)\n",
    "    for book, distance in recommended_books[1]:\n",
    "        recommendation_box.insert(tk.END, f\"{book} (similarity: {distance:.2f}%)\")\n",
    "\n",
    "root = tk.Tk()\n",
    "root.title(\"Book Recommender\")\n",
    "root.configure(bg=\"purple\")\n",
    "\n",
    "main_frame = ttk.Frame(root, padding=\"40 40 40 40\", style=\"Main.TFrame\")\n",
    "main_frame.grid(row=0, column=0, sticky=(tk.N, tk.S, tk.E, tk.W))\n",
    "\n",
    "style = ttk.Style()\n",
    "style.configure(\"Main.TFrame\", background=\"purple\")\n",
    "style.configure(\"TLabel\", background=\"purple\", foreground=\"black\", padding=10)\n",
    "style.configure(\"TEntry\", fieldbackground=\"white\", foreground=\"black\", padding=10)\n",
    "style.configure(\"TButton\", background=\"black\", padding=10)\n",
    "style.configure(\"TListbox\", background=\"white\", foreground=\"black\", padding=10)\n",
    "\n",
    "title_label = ttk.Label(main_frame, text=\"Book Recommender\", font=(\"Arial\", 18, \"bold\"))\n",
    "title_label.grid(row=0, column=0, columnspan=2, pady=20)\n",
    "\n",
    "book_label = ttk.Label(main_frame, text=\"Enter a book name:\")\n",
    "book_label.grid(row=1, column=0, sticky=tk.W, pady=10)\n",
    "\n",
    "book_entry = ttk.Entry(main_frame)\n",
    "book_entry.grid(row=1, column=1, sticky=(tk.W, tk.E), pady=10)\n",
    "\n",
    "recommendation_box = tk.Listbox(main_frame, width=50)\n",
    "recommendation_box.grid(row=2, column=0, columnspan=2, sticky=(tk.N, tk.S, tk.E, tk.W), pady=20)\n",
    "\n",
    "get_recommendations_button = ttk.Button(main_frame, text=\"Get Recommendations\", command=display_recommendations)\n",
    "get_recommendations_button.grid(row=3, column=0, columnspan=2, sticky=(tk.W, tk.E), pady=10)\n",
    "\n",
    "root.grid_rowconfigure(2, weight=1)\n",
    "root.grid_columnconfigure(1, weight=1)\n",
    "\n",
    "root.mainloop()\n"
   ]
  }
 ],
 "metadata": {
  "kernelspec": {
   "display_name": "Python 3 (ipykernel)",
   "language": "python",
   "name": "python3"
  },
  "language_info": {
   "codemirror_mode": {
    "name": "ipython",
    "version": 3
   },
   "file_extension": ".py",
   "mimetype": "text/x-python",
   "name": "python",
   "nbconvert_exporter": "python",
   "pygments_lexer": "ipython3",
   "version": "3.9.12"
  }
 },
 "nbformat": 4,
 "nbformat_minor": 5
}
